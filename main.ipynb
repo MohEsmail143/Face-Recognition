{
 "cells": [
  {
   "cell_type": "markdown",
   "id": "341d00a1",
   "metadata": {},
   "source": [
    "# Face Recognition"
   ]
  },
  {
   "cell_type": "markdown",
   "id": "72090f6b",
   "metadata": {},
   "source": [
    "### Import Libraries"
   ]
  },
  {
   "cell_type": "code",
   "execution_count": 1,
   "id": "9ec4bd27",
   "metadata": {},
   "outputs": [],
   "source": [
    "import os\n",
    "import re\n",
    "import numpy as np\n",
    "import matplotlib.pyplot as plt\n",
    "from PIL import Image"
   ]
  },
  {
   "cell_type": "markdown",
   "id": "3ce245ec",
   "metadata": {},
   "source": [
    "### Generate the Data Matrix and the Label vector"
   ]
  },
  {
   "cell_type": "code",
   "execution_count": 11,
   "id": "7d7cb0f2",
   "metadata": {},
   "outputs": [],
   "source": [
    "D = np.empty((400, 10304))\n",
    "y = np.empty((400,1))"
   ]
  },
  {
   "cell_type": "code",
   "execution_count": 2,
   "id": "7f3d0cb9",
   "metadata": {},
   "outputs": [],
   "source": [
    "def read_pgm(filename, byteorder='>'):\n",
    "    \"\"\"Return image data from a raw PGM file as numpy array.\n",
    "    Format specification: http://netpbm.sourceforge.net/doc/pgm.html\n",
    "    \"\"\"\n",
    "    with open(filename, 'rb') as f:\n",
    "        buffer = f.read()\n",
    "    try:\n",
    "        header, width, height, maxval = re.search(\n",
    "            b\"(^P5\\s(?:\\s*#.*[\\r\\n])*\"\n",
    "            b\"(\\d+)\\s(?:\\s*#.*[\\r\\n])*\"\n",
    "            b\"(\\d+)\\s(?:\\s*#.*[\\r\\n])*\"\n",
    "            b\"(\\d+)\\s(?:\\s*#.*[\\r\\n]\\s)*)\", buffer).groups()\n",
    "    except AttributeError:\n",
    "        raise ValueError(\"Not a raw PGM file: '%s'\" % filename)\n",
    "    return np.frombuffer(buffer,\n",
    "                            dtype='u1' if int(maxval) < 256 else byteorder+'u2',\n",
    "                            count=int(width)*int(height),\n",
    "                            offset=len(header)\n",
    "                            ).reshape((int(height), int(width)))\n",
    "\n"
   ]
  },
  {
   "cell_type": "code",
   "execution_count": 12,
   "id": "1d598d35",
   "metadata": {},
   "outputs": [],
   "source": [
    "i = 0\n",
    "file_path = f\"{os.getcwd()}\\\\att_faces\"\n",
    "for folder, _, files in os.walk(file_path):\n",
    "    for f in files:\n",
    "        if (f.split('.')[-1] == 'pgm'):\n",
    "            image = read_pgm(f\"{folder}\\\\{f}\", byteorder='<').reshape(1,-1)\n",
    "            D[i] = image\n",
    "            y[i] = folder.split(\"\\\\\")[-1][1:]\n",
    "            i+=1"
   ]
  },
  {
   "cell_type": "code",
   "execution_count": 13,
   "id": "798af51d",
   "metadata": {},
   "outputs": [
    {
     "data": {
      "text/plain": [
       "(400, 10304)"
      ]
     },
     "execution_count": 13,
     "metadata": {},
     "output_type": "execute_result"
    }
   ],
   "source": [
    "D.shape"
   ]
  },
  {
   "cell_type": "code",
   "execution_count": 14,
   "id": "f4e3a341",
   "metadata": {},
   "outputs": [
    {
     "data": {
      "text/plain": [
       "(400, 1)"
      ]
     },
     "execution_count": 14,
     "metadata": {},
     "output_type": "execute_result"
    }
   ],
   "source": [
    "y.shape"
   ]
  },
  {
   "cell_type": "markdown",
   "id": "56258984",
   "metadata": {},
   "source": [
    "### Split the Dataset into Training and Test sets"
   ]
  },
  {
   "cell_type": "code",
   "execution_count": null,
   "id": "0335ace8",
   "metadata": {},
   "outputs": [],
   "source": []
  },
  {
   "cell_type": "markdown",
   "id": "d3016708",
   "metadata": {},
   "source": [
    "### Classification using PCA"
   ]
  },
  {
   "cell_type": "code",
   "execution_count": null,
   "id": "1c9772ef",
   "metadata": {},
   "outputs": [],
   "source": []
  },
  {
   "cell_type": "markdown",
   "id": "2c38a5f2",
   "metadata": {},
   "source": [
    "### Classification using LDA"
   ]
  },
  {
   "cell_type": "code",
   "execution_count": null,
   "id": "cf2395be",
   "metadata": {},
   "outputs": [],
   "source": []
  },
  {
   "cell_type": "markdown",
   "id": "6af01749",
   "metadata": {},
   "source": [
    "### Classifier Tuning"
   ]
  },
  {
   "cell_type": "code",
   "execution_count": null,
   "id": "d571d26a",
   "metadata": {},
   "outputs": [],
   "source": []
  },
  {
   "cell_type": "markdown",
   "id": "9235d315",
   "metadata": {},
   "source": [
    "### Bonus"
   ]
  },
  {
   "cell_type": "code",
   "execution_count": null,
   "id": "ef29b70c",
   "metadata": {},
   "outputs": [],
   "source": []
  }
 ],
 "metadata": {
  "kernelspec": {
   "display_name": "Python 3 (ipykernel)",
   "language": "python",
   "name": "python3"
  },
  "language_info": {
   "codemirror_mode": {
    "name": "ipython",
    "version": 3
   },
   "file_extension": ".py",
   "mimetype": "text/x-python",
   "name": "python",
   "nbconvert_exporter": "python",
   "pygments_lexer": "ipython3",
   "version": "3.9.12"
  }
 },
 "nbformat": 4,
 "nbformat_minor": 5
}
